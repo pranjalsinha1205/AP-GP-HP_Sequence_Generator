{
  "nbformat": 4,
  "nbformat_minor": 0,
  "metadata": {
    "colab": {
      "provenance": [],
      "authorship_tag": "ABX9TyM2krRAHcHdlKLhSu2uKiny",
      "include_colab_link": true
    },
    "kernelspec": {
      "name": "python3",
      "display_name": "Python 3"
    },
    "language_info": {
      "name": "python"
    }
  },
  "cells": [
    {
      "cell_type": "markdown",
      "metadata": {
        "id": "view-in-github",
        "colab_type": "text"
      },
      "source": [
        "<a href=\"https://colab.research.google.com/github/pranjalsinha1205/AP-GP-HP_Sequence_Generator/blob/main/AP_GP_HP_Sequence_Generator.ipynb\" target=\"_parent\"><img src=\"https://colab.research.google.com/assets/colab-badge.svg\" alt=\"Open In Colab\"/></a>"
      ]
    },
    {
      "cell_type": "code",
      "source": [
        "def ap():\n",
        "  try:\n",
        "    a1 = float(input(\"Enter the first term: \"))\n",
        "    n = int(input(\"Enter the term upto which you wish to print the sequence: \"))\n",
        "    d = float(input(\"Enter the common difference: \"))\n",
        "    l = []\n",
        "    i = 0\n",
        "    while i < n:\n",
        "      l += [a1]\n",
        "      a1 += d\n",
        "      i += 1\n",
        "    find_sum = input(\"Do you wish to find the sum as well? Enter y for yes, n for no: \").lower()\n",
        "    if find_sum not in ['y','n']:\n",
        "      print('Invalid input')\n",
        "      print(f\"The A.P. is {l}\")\n",
        "    elif find_sum == 'y':\n",
        "      print(f\"The sum is {sum(l)}\")\n",
        "      print(f\"The A.P. is {l}\")\n",
        "    elif find_sum == 'n':\n",
        "      print(f\"The A.P. is {l}\")\n",
        "  except ValueError:\n",
        "    return 'Only integers are allowed!'"
      ],
      "metadata": {
        "id": "VWHcysxXto6E"
      },
      "execution_count": 53,
      "outputs": []
    },
    {
      "cell_type": "code",
      "source": [
        "ap()"
      ],
      "metadata": {
        "colab": {
          "base_uri": "https://localhost:8080/"
        },
        "id": "4U4bCebSv6fu",
        "outputId": "ca82e82d-cb0a-4f90-b1f7-90e63ecf6a28"
      },
      "execution_count": 37,
      "outputs": [
        {
          "output_type": "stream",
          "name": "stdout",
          "text": [
            "Enter the first term: 1\n",
            "Enter the term upto which you wish to print the sequence: 5\n",
            "Enter the common difference: 2.5\n",
            "Do you wish to find the sum as well? Enter y for yes, n for no: y\n",
            "The sum is 30.0\n",
            "The A.P. is [1, 3.5, 6.0, 8.5, 11.0]\n"
          ]
        }
      ]
    },
    {
      "cell_type": "code",
      "source": [
        "def gp():\n",
        "  try:\n",
        "    a1 = float(input(\"Enter the first term: \"))\n",
        "    n = int(input(\"Enter the term upto which you wish to print the sequence: \"))\n",
        "    r = float(input(\"Enter the common factor: \"))\n",
        "    l = []\n",
        "    i = 0\n",
        "    while i < n:\n",
        "      l += [a1*(r**i)]\n",
        "      i += 1\n",
        "    find_sum = input(\"Do you wish to find the sum as well? Enter y for yes, n for no: \").lower()\n",
        "    if find_sum not in ['y','n']:\n",
        "      print('Invalid input!')\n",
        "      print(f'The G.P. is {l}')    \n",
        "    elif find_sum == 'y':\n",
        "      print('The sum is {.:2f}'.format(sum(l)))\n",
        "      print(f'The G.P. is {l}')\n",
        "    elif find_sum == 'n':\n",
        "      print(f'The G.P. is {l}')\n",
        "  except ValueError:\n",
        "    return 'Only integers are allowed'"
      ],
      "metadata": {
        "id": "p8ZSw3kUxBXD"
      },
      "execution_count": 61,
      "outputs": []
    },
    {
      "cell_type": "code",
      "source": [
        "gp()"
      ],
      "metadata": {
        "colab": {
          "base_uri": "https://localhost:8080/"
        },
        "id": "wAJLsZy8yUMY",
        "outputId": "b1f0e77d-06b3-496a-c699-ff52bb325b99"
      },
      "execution_count": 19,
      "outputs": [
        {
          "output_type": "stream",
          "name": "stdout",
          "text": [
            "Enter the first term: 2\n",
            "Enter the term upto which you wish to print the sequence: 5\n",
            "Enter the common factor: 1\n",
            "Do you wish to find the sum as well? Enter y for yes, n for no: y\n",
            "The sum is 10\n",
            "The G.P. is [2, 2, 2, 2, 2]\n"
          ]
        }
      ]
    },
    {
      "cell_type": "code",
      "source": [
        "def hp():\n",
        "  try:\n",
        "    a1 = float(input(\"Enter the first term: \"))\n",
        "    n = int(input(\"Enter the term upto which you wish to print the sequence: \"))\n",
        "    d = float(input(\"Enter the common difference: \"))\n",
        "    l = []\n",
        "    l1 = []\n",
        "    i = 0\n",
        "    while i < n:\n",
        "      l += [f'1/{a1}']\n",
        "      l1 += [1/a1]\n",
        "      a1 += d\n",
        "      i += 1\n",
        "    find_sum = input(\"Do you wish to find the sum as well? Enter y for yes, n for no: \").lower()\n",
        "    if find_sum not in ['y','n']:\n",
        "      print('Invalid input')\n",
        "      print(f\"The H.P. is {l}\")\n",
        "    elif find_sum == 'y':\n",
        "      print(\"The sum is {:.3f}\".format(sum(l1)))\n",
        "      print(f\"The H.P. is {l}\")\n",
        "    elif find_sum == 'n':\n",
        "      print(f'The H.P. is {l}')\n",
        "  except ValueError:\n",
        "    return 'Only integers are allowed!'"
      ],
      "metadata": {
        "id": "aceaxvedyUay"
      },
      "execution_count": 55,
      "outputs": []
    },
    {
      "cell_type": "code",
      "source": [
        "hp()"
      ],
      "metadata": {
        "colab": {
          "base_uri": "https://localhost:8080/"
        },
        "id": "7SexA6BT05-1",
        "outputId": "1976cb2a-d4ef-4a80-ccf6-a8d4cff376ad"
      },
      "execution_count": 48,
      "outputs": [
        {
          "output_type": "stream",
          "name": "stdout",
          "text": [
            "Enter the first term: 1\n",
            "Enter the term upto which you wish to print the sequence: 3\n",
            "Enter the common difference: 2\n",
            "Do you wish to find the sum as well? Enter y for yes, n for no: y\n",
            "The sum is 1.533\n",
            "The H.P. is ['1/1', '1/3.0', '1/5.0']\n"
          ]
        }
      ]
    },
    {
      "cell_type": "code",
      "execution_count": 56,
      "metadata": {
        "id": "SFR-3zCZs-4i"
      },
      "outputs": [],
      "source": [
        "def sequence():\n",
        "  print(\"Which type of sequence do you wish to generate?\\nType 'ap' for A.P., 'gp' for G.P., and 'hp' for H.P.\")\n",
        "  seq = input(\"Desired sequence: \").lower()\n",
        "  if seq not in ['ap','gp','hp']:\n",
        "    return 'Wrong input'\n",
        "  elif seq == 'ap':\n",
        "    return ap()\n",
        "  elif seq == 'gp':\n",
        "    return gp()\n",
        "  elif seq == 'hp':\n",
        "    return hp()"
      ]
    },
    {
      "cell_type": "code",
      "source": [
        "sequence()"
      ],
      "metadata": {
        "colab": {
          "base_uri": "https://localhost:8080/"
        },
        "id": "7Trxqng2zwZ9",
        "outputId": "7ee59285-f80d-4e20-d0c3-ea7479f0cc37"
      },
      "execution_count": 59,
      "outputs": [
        {
          "output_type": "stream",
          "name": "stdout",
          "text": [
            "Which type of sequence do you wish to generate?\n",
            "Type 'ap' for A.P., 'gp' for G.P., and 'hp' for H.P.\n",
            "Desired sequence: gp\n",
            "Enter the first term: 0.5\n",
            "Enter the term upto which you wish to print the sequence: 20\n",
            "Enter the common factor: 0.5\n",
            "Do you wish to find the sum as well? Enter y for yes, n for no: y\n",
            "The sum is 0.9999990463256836\n",
            "The G.P. is [0.5, 0.25, 0.125, 0.0625, 0.03125, 0.015625, 0.0078125, 0.00390625, 0.001953125, 0.0009765625, 0.00048828125, 0.000244140625, 0.0001220703125, 6.103515625e-05, 3.0517578125e-05, 1.52587890625e-05, 7.62939453125e-06, 3.814697265625e-06, 1.9073486328125e-06, 9.5367431640625e-07]\n"
          ]
        }
      ]
    }
  ]
}